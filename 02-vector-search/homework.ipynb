{
 "cells": [
  {
   "cell_type": "code",
   "execution_count": 21,
   "id": "d7bd7ff3",
   "metadata": {},
   "outputs": [],
   "source": [
    "from fastembed import TextEmbedding\n",
    "import numpy as np\n",
    "from sklearn.metrics.pairwise import cosine_similarity\n",
    "import requests \n",
    "from qdrant_client import QdrantClient\n",
    "from qdrant_client.models import Distance, VectorParams, PointStruct\n"
   ]
  },
  {
   "cell_type": "markdown",
   "id": "1e03f176",
   "metadata": {},
   "source": [
    "## Q1. Embedding the query"
   ]
  },
  {
   "cell_type": "code",
   "execution_count": 3,
   "id": "3cde5a73",
   "metadata": {},
   "outputs": [
    {
     "name": "stderr",
     "output_type": "stream",
     "text": [
      "Fetching 5 files: 100%|██████████| 5/5 [00:02<00:00,  2.01it/s]\n"
     ]
    },
    {
     "data": {
      "text/plain": [
       "'Minimum value in embedding: -0.11726373551188797'"
      ]
     },
     "execution_count": 3,
     "metadata": {},
     "output_type": "execute_result"
    }
   ],
   "source": [
    "model = TextEmbedding(model_name=\"jinaai/jina-embeddings-v2-small-en\")\n",
    "query = \"I just discovered the course. Can I join now?\"\n",
    "embedding = next(model.embed([query]))\n",
    "embedding_np = np.array(embedding)\n",
    "min_value = np.min(embedding_np)\n",
    "f\"Minimum value in embedding: {min_value}\""
   ]
  },
  {
   "cell_type": "code",
   "execution_count": 5,
   "id": "1cac4944",
   "metadata": {},
   "outputs": [
    {
     "data": {
      "text/plain": [
       "np.float64(1.0)"
      ]
     },
     "execution_count": 5,
     "metadata": {},
     "output_type": "execute_result"
    }
   ],
   "source": [
    "embedding.dot(embedding)"
   ]
  },
  {
   "cell_type": "markdown",
   "id": "accc2f4b",
   "metadata": {},
   "source": [
    "## Q2. Cosine similarity with another vector"
   ]
  },
  {
   "cell_type": "code",
   "execution_count": 6,
   "id": "e2212916",
   "metadata": {},
   "outputs": [
    {
     "data": {
      "text/plain": [
       "np.float64(0.9008528856818037)"
      ]
     },
     "execution_count": 6,
     "metadata": {},
     "output_type": "execute_result"
    }
   ],
   "source": [
    "doc = 'Can I still join the course after the start date?'\n",
    "embedding_doc = next(model.embed([doc]))\n",
    "embedding.dot(embedding_doc)"
   ]
  },
  {
   "cell_type": "markdown",
   "id": "7a71a578",
   "metadata": {},
   "source": [
    "## Q3. Ranking by cosine"
   ]
  },
  {
   "cell_type": "code",
   "execution_count": 7,
   "id": "ee925cad",
   "metadata": {},
   "outputs": [],
   "source": [
    "documents = [{'text': \"Yes, even if you don't register, you're still eligible to submit the homeworks.\\nBe aware, however, that there will be deadlines for turning in the final projects. So don't leave everything for the last minute.\",\n",
    "  'section': 'General course-related questions',\n",
    "  'question': 'Course - Can I still join the course after the start date?',\n",
    "  'course': 'data-engineering-zoomcamp'},\n",
    " {'text': 'Yes, we will keep all the materials after the course finishes, so you can follow the course at your own pace after it finishes.\\nYou can also continue looking at the homeworks and continue preparing for the next cohort. I guess you can also start working on your final capstone project.',\n",
    "  'section': 'General course-related questions',\n",
    "  'question': 'Course - Can I follow the course after it finishes?',\n",
    "  'course': 'data-engineering-zoomcamp'},\n",
    " {'text': \"The purpose of this document is to capture frequently asked technical questions\\nThe exact day and hour of the course will be 15th Jan 2024 at 17h00. The course will start with the first  “Office Hours'' live.1\\nSubscribe to course public Google Calendar (it works from Desktop only).\\nRegister before the course starts using this link.\\nJoin the course Telegram channel with announcements.\\nDon’t forget to register in DataTalks.Club's Slack and join the channel.\",\n",
    "  'section': 'General course-related questions',\n",
    "  'question': 'Course - When will the course start?',\n",
    "  'course': 'data-engineering-zoomcamp'},\n",
    " {'text': 'You can start by installing and setting up all the dependencies and requirements:\\nGoogle cloud account\\nGoogle Cloud SDK\\nPython 3 (installed with Anaconda)\\nTerraform\\nGit\\nLook over the prerequisites and syllabus to see if you are comfortable with these subjects.',\n",
    "  'section': 'General course-related questions',\n",
    "  'question': 'Course - What can I do before the course starts?',\n",
    "  'course': 'data-engineering-zoomcamp'},\n",
    " {'text': 'Star the repo! Share it with friends if you find it useful ❣️\\nCreate a PR if you see you can improve the text or the structure of the repository.',\n",
    "  'section': 'General course-related questions',\n",
    "  'question': 'How can we contribute to the course?',\n",
    "  'course': 'data-engineering-zoomcamp'}]"
   ]
  },
  {
   "cell_type": "code",
   "execution_count": 10,
   "id": "a1ec457e",
   "metadata": {},
   "outputs": [],
   "source": [
    "doc_embeddings = list(model.embed([doc['text'] for doc in documents]))\n"
   ]
  },
  {
   "cell_type": "code",
   "execution_count": 12,
   "id": "9f291505",
   "metadata": {},
   "outputs": [],
   "source": [
    "query_vector = embedding_np.reshape(1, -1)\n",
    "cosine_similarities = cosine_similarity(query_vector, doc_embeddings)[0]"
   ]
  },
  {
   "cell_type": "code",
   "execution_count": 14,
   "id": "eef60f78",
   "metadata": {},
   "outputs": [
    {
     "data": {
      "text/plain": [
       "('Document index with highest similarity:', 1)"
      ]
     },
     "execution_count": 14,
     "metadata": {},
     "output_type": "execute_result"
    }
   ],
   "source": [
    "most_similar_index = int(np.argmax(cosine_similarities))\n",
    "\"Document index with highest similarity:\", most_similar_index"
   ]
  },
  {
   "cell_type": "markdown",
   "id": "6e39aedb",
   "metadata": {},
   "source": [
    "## Q4. Ranking by cosine, version two"
   ]
  },
  {
   "cell_type": "code",
   "execution_count": 15,
   "id": "23d29db0",
   "metadata": {},
   "outputs": [],
   "source": [
    "full_doc_embeddings = list(model.embed([doc['question'] + ' ' + doc['text'] for doc in documents]))"
   ]
  },
  {
   "cell_type": "code",
   "execution_count": 16,
   "id": "20d78166",
   "metadata": {},
   "outputs": [
    {
     "data": {
      "text/plain": [
       "('Document index with highest similarity:', 0)"
      ]
     },
     "execution_count": 16,
     "metadata": {},
     "output_type": "execute_result"
    }
   ],
   "source": [
    "cosine_similarities = cosine_similarity(query_vector, full_doc_embeddings)[0]\n",
    "most_similar_index = int(np.argmax(cosine_similarities))\n",
    "\"Document index with highest similarity:\", most_similar_index"
   ]
  },
  {
   "cell_type": "markdown",
   "id": "6541ff56",
   "metadata": {},
   "source": [
    "## Q5. Selecting the embedding model"
   ]
  },
  {
   "cell_type": "markdown",
   "id": "83524765",
   "metadata": {},
   "source": [
    "What's the smallest dimensionality for models in fastembed? 384"
   ]
  },
  {
   "cell_type": "code",
   "execution_count": 17,
   "id": "594f8e15",
   "metadata": {},
   "outputs": [
    {
     "name": "stderr",
     "output_type": "stream",
     "text": [
      "Fetching 5 files: 100%|██████████| 5/5 [00:03<00:00,  1.28it/s]\n"
     ]
    }
   ],
   "source": [
    "model = TextEmbedding(model_name=\"BAAI/bge-small-en\")"
   ]
  },
  {
   "cell_type": "markdown",
   "id": "02119e58",
   "metadata": {},
   "source": [
    "## Q6. Indexing with qdrant"
   ]
  },
  {
   "cell_type": "code",
   "execution_count": 19,
   "id": "6c128310",
   "metadata": {},
   "outputs": [],
   "source": [
    "docs_url = 'https://github.com/alexeygrigorev/llm-rag-workshop/raw/main/notebooks/documents.json'\n",
    "docs_response = requests.get(docs_url)\n",
    "documents_raw = docs_response.json()\n",
    "\n",
    "\n",
    "documents = []\n",
    "\n",
    "for course in documents_raw:\n",
    "    course_name = course['course']\n",
    "    if course_name != 'machine-learning-zoomcamp':\n",
    "        continue\n",
    "\n",
    "    for doc in course['documents']:\n",
    "        doc['course'] = course_name\n",
    "        documents.append(doc)"
   ]
  },
  {
   "cell_type": "code",
   "execution_count": 24,
   "id": "ba7fdb62",
   "metadata": {},
   "outputs": [],
   "source": [
    "texts = [doc['question'] + \" \" + doc['text'] for doc in documents]\n",
    "full_doc_embeddings = list(model.embed(texts))"
   ]
  },
  {
   "cell_type": "code",
   "execution_count": 22,
   "id": "1c9087d4",
   "metadata": {},
   "outputs": [],
   "source": [
    "client = QdrantClient(\":memory:\")"
   ]
  },
  {
   "cell_type": "code",
   "execution_count": 23,
   "id": "1c40a0cf",
   "metadata": {},
   "outputs": [
    {
     "name": "stderr",
     "output_type": "stream",
     "text": [
      "/var/folders/ml/gp6bsjkn7w77hgytpxvg8gsw0000gn/T/ipykernel_63311/2935666450.py:1: DeprecationWarning: `recreate_collection` method is deprecated and will be removed in the future. Use `collection_exists` to check collection existence and `create_collection` instead.\n",
      "  client.recreate_collection(\n"
     ]
    },
    {
     "data": {
      "text/plain": [
       "True"
      ]
     },
     "execution_count": 23,
     "metadata": {},
     "output_type": "execute_result"
    }
   ],
   "source": [
    "client.recreate_collection(\n",
    "    collection_name=\"course_docs\",\n",
    "    vectors_config=VectorParams(size=384, distance=Distance.COSINE)\n",
    ")\n"
   ]
  },
  {
   "cell_type": "code",
   "execution_count": 25,
   "id": "776239e5",
   "metadata": {},
   "outputs": [
    {
     "data": {
      "text/plain": [
       "UpdateResult(operation_id=0, status=<UpdateStatus.COMPLETED: 'completed'>)"
      ]
     },
     "execution_count": 25,
     "metadata": {},
     "output_type": "execute_result"
    }
   ],
   "source": [
    "points = [\n",
    "    PointStruct(id=i, vector=embedding, payload={\"text\": texts[i]})\n",
    "    for i, embedding in enumerate(full_doc_embeddings)\n",
    "]\n",
    "client.upsert(collection_name=\"course_docs\", points=points)"
   ]
  },
  {
   "cell_type": "code",
   "execution_count": 29,
   "id": "447dea20",
   "metadata": {},
   "outputs": [
    {
     "data": {
      "text/plain": [
       "(384,)"
      ]
     },
     "execution_count": 29,
     "metadata": {},
     "output_type": "execute_result"
    }
   ],
   "source": [
    "query_vector.shape"
   ]
  },
  {
   "cell_type": "code",
   "execution_count": 30,
   "id": "e1a5042f",
   "metadata": {},
   "outputs": [
    {
     "name": "stderr",
     "output_type": "stream",
     "text": [
      "/var/folders/ml/gp6bsjkn7w77hgytpxvg8gsw0000gn/T/ipykernel_63311/2662488397.py:2: DeprecationWarning: `search` method is deprecated and will be removed in the future. Use `query_points` instead.\n",
      "  search_result = client.search(\n"
     ]
    }
   ],
   "source": [
    "query_vector = next(model.embed([query]))\n",
    "search_result = client.search(\n",
    "    collection_name=\"course_docs\",\n",
    "    query_vector=query_vector,\n",
    "    limit=5\n",
    ")"
   ]
  },
  {
   "cell_type": "code",
   "execution_count": 31,
   "id": "23f3486f",
   "metadata": {},
   "outputs": [
    {
     "data": {
      "text/plain": [
       "('Highest similarity score:', 0.8703173398971558)"
      ]
     },
     "execution_count": 31,
     "metadata": {},
     "output_type": "execute_result"
    }
   ],
   "source": [
    "highest_score = max([hit.score for hit in search_result])\n",
    "\"Highest similarity score:\", highest_score"
   ]
  }
 ],
 "metadata": {
  "kernelspec": {
   "display_name": ".venv",
   "language": "python",
   "name": "python3"
  },
  "language_info": {
   "codemirror_mode": {
    "name": "ipython",
    "version": 3
   },
   "file_extension": ".py",
   "mimetype": "text/x-python",
   "name": "python",
   "nbconvert_exporter": "python",
   "pygments_lexer": "ipython3",
   "version": "3.12.8"
  }
 },
 "nbformat": 4,
 "nbformat_minor": 5
}
