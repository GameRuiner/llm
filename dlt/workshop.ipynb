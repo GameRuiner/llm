{
 "cells": [
  {
   "cell_type": "markdown",
   "id": "7b6f6530",
   "metadata": {},
   "source": [
    "# Homework"
   ]
  },
  {
   "cell_type": "code",
   "execution_count": 1,
   "id": "03baf76c",
   "metadata": {},
   "outputs": [],
   "source": [
    "import requests\n",
    "import dlt\n",
    "import json\n",
    "\n",
    "from pathlib import Path\n",
    "from dlt.destinations import qdrant"
   ]
  },
  {
   "cell_type": "markdown",
   "id": "85281636",
   "metadata": {},
   "source": [
    "## Question 1. dlt Version"
   ]
  },
  {
   "cell_type": "code",
   "execution_count": 3,
   "id": "3a5b8e8d",
   "metadata": {},
   "outputs": [
    {
     "name": "stdout",
     "output_type": "stream",
     "text": [
      "Version: 1.12.3\n"
     ]
    }
   ],
   "source": [
    "!pip show dlt | grep Version"
   ]
  },
  {
   "cell_type": "markdown",
   "id": "2eb69ac8",
   "metadata": {},
   "source": [
    "## dlt Resourse"
   ]
  },
  {
   "cell_type": "code",
   "execution_count": 7,
   "id": "e73ccde2",
   "metadata": {},
   "outputs": [],
   "source": [
    "@dlt.resource\n",
    "def zoomcamp_data():\n",
    "    docs_url = 'https://github.com/alexeygrigorev/llm-rag-workshop/raw/main/notebooks/documents.json'\n",
    "    docs_response = requests.get(docs_url)\n",
    "    documents_raw = docs_response.json()\n",
    "\n",
    "    for course in documents_raw:\n",
    "        course_name = course['course']\n",
    "\n",
    "        for doc in course['documents']:\n",
    "            doc['course'] = course_name\n",
    "            yield doc"
   ]
  },
  {
   "cell_type": "markdown",
   "id": "91ef8742",
   "metadata": {},
   "source": [
    "## Question 2. dlt pipeline"
   ]
  },
  {
   "cell_type": "code",
   "execution_count": 9,
   "id": "ea524248",
   "metadata": {},
   "outputs": [],
   "source": [
    "qdrant_destination = qdrant(\n",
    "  qd_path=\"db.qdrant\", \n",
    ")"
   ]
  },
  {
   "cell_type": "code",
   "execution_count": 10,
   "id": "0fecdbe8",
   "metadata": {},
   "outputs": [
    {
     "name": "stderr",
     "output_type": "stream",
     "text": [
      "/Users/markogolovko/Projects/llm/.venv/lib/python3.12/site-packages/tqdm/auto.py:21: TqdmWarning: IProgress not found. Please update jupyter and ipywidgets. See https://ipywidgets.readthedocs.io/en/stable/user_install.html\n",
      "  from .autonotebook import tqdm as notebook_tqdm\n",
      "Fetching 5 files: 100%|██████████| 5/5 [00:02<00:00,  2.03it/s]\n"
     ]
    },
    {
     "name": "stdout",
     "output_type": "stream",
     "text": [
      "Run started at 2025-07-07 09:35:20.459979+00:00 and COMPLETED in 8.43 seconds with 4 steps.\n",
      "Step extract COMPLETED in 1.02 seconds.\n",
      "\n",
      "Load package 1751880925.084119 is EXTRACTED and NOT YET LOADED to the destination and contains no failed jobs\n",
      "\n",
      "Step normalize COMPLETED in 0.04 seconds.\n",
      "Normalized data for the following tables:\n",
      "- _dlt_pipeline_state: 1 row(s)\n",
      "- zoomcamp_data: 948 row(s)\n",
      "\n",
      "Load package 1751880925.084119 is NORMALIZED and NOT YET LOADED to the destination and contains no failed jobs\n",
      "\n",
      "Step load COMPLETED in 2.74 seconds.\n",
      "Pipeline zoomcamp_pipeline load step completed in 2.73 seconds\n",
      "1 load package(s) were loaded to destination qdrant and into dataset zoomcamp_tagged_data\n",
      "The qdrant destination used /Users/markogolovko/Projects/llm/dlt/db.qdrant location to store data\n",
      "Load package 1751880925.084119 is LOADED and contains no failed jobs\n",
      "\n",
      "Step run COMPLETED in 8.42 seconds.\n",
      "Pipeline zoomcamp_pipeline load step completed in 2.73 seconds\n",
      "1 load package(s) were loaded to destination qdrant and into dataset zoomcamp_tagged_data\n",
      "The qdrant destination used /Users/markogolovko/Projects/llm/dlt/db.qdrant location to store data\n",
      "Load package 1751880925.084119 is LOADED and contains no failed jobs\n"
     ]
    }
   ],
   "source": [
    "pipeline = dlt.pipeline(\n",
    "    pipeline_name=\"zoomcamp_pipeline\",\n",
    "    destination=qdrant_destination,\n",
    "    dataset_name=\"zoomcamp_tagged_data\"\n",
    "\n",
    ")\n",
    "load_info = pipeline.run(zoomcamp_data())\n",
    "print(pipeline.last_trace)"
   ]
  },
  {
   "cell_type": "markdown",
   "id": "2e9e76f4",
   "metadata": {},
   "source": [
    "## Question 3. Embeddings"
   ]
  },
  {
   "cell_type": "code",
   "execution_count": 9,
   "id": "d19735f2",
   "metadata": {},
   "outputs": [
    {
     "name": "stdout",
     "output_type": "stream",
     "text": [
      "  → Embedding model (vector name): fast-bge-small-en\n"
     ]
    }
   ],
   "source": [
    "meta_path = Path(\"db.qdrant/meta.json\")\n",
    "with open(meta_path, \"r\", encoding=\"utf-8\") as f:\n",
    "    meta = json.load(f)\n",
    "for collection_name, collection_info in meta[\"collections\"].items():\n",
    "    vectors = collection_info.get(\"vectors\", {})\n",
    "    for vector_name in vectors:\n",
    "        print(f\"  → Embedding model (vector name): {vector_name}\")\n",
    "\n",
    "    break"
   ]
  }
 ],
 "metadata": {
  "kernelspec": {
   "display_name": ".venv",
   "language": "python",
   "name": "python3"
  },
  "language_info": {
   "codemirror_mode": {
    "name": "ipython",
    "version": 3
   },
   "file_extension": ".py",
   "mimetype": "text/x-python",
   "name": "python",
   "nbconvert_exporter": "python",
   "pygments_lexer": "ipython3",
   "version": "3.12.8"
  }
 },
 "nbformat": 4,
 "nbformat_minor": 5
}
