{
 "cells": [
  {
   "cell_type": "markdown",
   "id": "40dbf0cf",
   "metadata": {},
   "source": [
    "# Agents"
   ]
  },
  {
   "cell_type": "code",
   "execution_count": null,
   "id": "6aef2a2a",
   "metadata": {},
   "outputs": [],
   "source": [
    "import random\n",
    "import os\n",
    "from google import genai\n",
    "from google.genai import types\n",
    "from dotenv import load_dotenv\n",
    "\n",
    "load_dotenv();"
   ]
  },
  {
   "cell_type": "markdown",
   "id": "14d2fe3e",
   "metadata": {},
   "source": [
    "## Preparation"
   ]
  },
  {
   "cell_type": "code",
   "execution_count": null,
   "id": "8997e0f8",
   "metadata": {},
   "outputs": [],
   "source": [
    "known_weather_data = {\n",
    "    'berlin': 20.0\n",
    "}\n",
    "\n",
    "def get_weather(city: str) -> float:\n",
    "    city = city.strip().lower()\n",
    "\n",
    "    if city in known_weather_data:\n",
    "        return known_weather_data[city]\n",
    "\n",
    "    return round(random.uniform(-5, 35), 1)"
   ]
  },
  {
   "cell_type": "markdown",
   "id": "88c989ba",
   "metadata": {},
   "source": [
    "## Q1. Define function description"
   ]
  },
  {
   "cell_type": "code",
   "execution_count": 12,
   "id": "32d3309a",
   "metadata": {},
   "outputs": [],
   "source": [
    "get_weather_tool = {\n",
    "    \"name\": \"get_weather\",\n",
    "    \"description\": \"Get the current weather for a specific city.\",\n",
    "    \"parameters\": {\n",
    "        \"type\": \"object\",\n",
    "        \"properties\": {\n",
    "            \"city\": {\n",
    "                \"type\": \"string\",\n",
    "                \"description\": \"Name of the city to get weather information for.\"\n",
    "            }\n",
    "        },\n",
    "        \"required\": [\"city\"],\n",
    "    }\n",
    "}"
   ]
  },
  {
   "cell_type": "markdown",
   "id": "48b7f8ef",
   "metadata": {},
   "source": [
    "TODO3 is city"
   ]
  },
  {
   "cell_type": "code",
   "execution_count": 13,
   "id": "a34198ab",
   "metadata": {},
   "outputs": [],
   "source": [
    "client = genai.Client(api_key=os.environ[\"GOOGLE_API_KEY\"])\n",
    "tools = types.Tool(function_declarations=[get_weather_tool])\n",
    "config = types.GenerateContentConfig(tools=[tools])\n"
   ]
  },
  {
   "cell_type": "code",
   "execution_count": 14,
   "id": "973f0041",
   "metadata": {},
   "outputs": [],
   "source": [
    "response = client.models.generate_content(\n",
    "    model=\"gemini-2.5-flash\",\n",
    "    contents=\"What's the weather like in Berlin?\",\n",
    "    config=config,\n",
    ")"
   ]
  },
  {
   "cell_type": "code",
   "execution_count": 22,
   "id": "abfa785a",
   "metadata": {},
   "outputs": [],
   "source": [
    "def check_function_call(response):\n",
    "    if response.candidates[0].content.parts[0].function_call:\n",
    "        function_call = response.candidates[0].content.parts[0].function_call\n",
    "        print(f\"Function to call: {function_call.name}\")\n",
    "        print(f\"Arguments: {function_call.args}\")\n",
    "        #  In a real app, you would call your function here:\n",
    "        #  result = schedule_meeting(**function_call.args)\n",
    "    else:\n",
    "        print(\"No function call found in the response.\")\n",
    "        print(response.text)"
   ]
  },
  {
   "cell_type": "markdown",
   "id": "220f18f7",
   "metadata": {},
   "source": [
    "## Q2. Adding another tool"
   ]
  },
  {
   "cell_type": "code",
   "execution_count": 19,
   "id": "32b7388f",
   "metadata": {},
   "outputs": [],
   "source": [
    "set_weather_tool = {\n",
    "    \"name\": \"set_weather\",\n",
    "    \"description\": \"Set or update the temperature for a specific city.\",\n",
    "    \"parameters\": {\n",
    "        \"type\": \"object\",\n",
    "        \"properties\": {\n",
    "            \"city\": {\n",
    "                \"type\": \"string\",\n",
    "                \"description\": \"Name of the city to set the temperature for.\"\n",
    "            },\n",
    "            \"temp\": {\n",
    "                \"type\": \"number\",\n",
    "                \"description\": \"Temperature in Celsius to set for the city.\"\n",
    "            }\n",
    "        },\n",
    "        \"required\": [\"city\", \"temp\"],\n",
    "    }\n",
    "}"
   ]
  },
  {
   "cell_type": "code",
   "execution_count": 20,
   "id": "36f602cc",
   "metadata": {},
   "outputs": [],
   "source": [
    "tools = types.Tool(function_declarations=[get_weather_tool, set_weather_tool])\n",
    "config = types.GenerateContentConfig(tools=[tools])\n",
    "response = client.models.generate_content(\n",
    "    model=\"gemini-2.5-flash\",\n",
    "    contents=\"Set the temperature in Warsaw to 22.5 degrees.\",\n",
    "    config=config,\n",
    ")"
   ]
  },
  {
   "cell_type": "code",
   "execution_count": null,
   "id": "3c151c57",
   "metadata": {},
   "outputs": [
    {
     "name": "stdout",
     "output_type": "stream",
     "text": [
      "Function to call: set_weather\n",
      "Arguments: {'city': 'Warsaw', 'temp': 22.5}\n"
     ]
    }
   ],
   "source": [
    "check_function_call(response)"
   ]
  },
  {
   "cell_type": "markdown",
   "id": "640f3954",
   "metadata": {},
   "source": [
    "## Q3. Install FastMCP\n",
    "\n",
    "🏎️  FastMCP version: 2.10.5 "
   ]
  },
  {
   "cell_type": "markdown",
   "id": "23d7d16f",
   "metadata": {},
   "source": [
    "## Q4. Simple MCP Server\n",
    "\n",
    "TODO is stdio"
   ]
  },
  {
   "cell_type": "markdown",
   "id": "a7787916",
   "metadata": {},
   "source": [
    "## Q5. Protocol\n",
    "\n",
    "```json\n",
    "{\"jsonrpc\":\"2.0\",\"id\":3,\"result\":{\"content\":[{\"type\":\"text\",\"text\":\"20.0\"}],\"structuredContent\":{\"result\":20.0},\"isError\":false}}\n",
    "```"
   ]
  },
  {
   "cell_type": "markdown",
   "id": "aeffb538",
   "metadata": {},
   "source": [
    "## Q6. Client"
   ]
  },
  {
   "cell_type": "markdown",
   "id": "0fea5ca6",
   "metadata": {},
   "source": [
    "```python\n",
    "[Tool(name='get_weather', title=None, description='Retrieves the temperature for a specified city.\\n\\nParameters:\\n    city (str): The name of the city for which to retrieve weather data.\\n\\nReturns:\\n    float: The temperature associated with the city.', inputSchema={'properties': {'city': {'title': 'City', 'type': 'string'}}, 'required': ['city'], 'type': 'object'}, outputSchema={'properties': {'result': {'title': 'Result', 'type': 'number'}}, 'required': ['result'], 'title': '_WrappedResult', 'type': 'object', 'x-fastmcp-wrap-result': True}, annotations=None, meta=None), Tool(name='set_weather', title=None, description=\"Sets the temperature for a specified city.\\n\\nParameters:\\n    city (str): The name of the city for which to set the weather data.\\n    temp (float): The temperature to associate with the city.\\n\\nReturns:\\n    str: A confirmation string 'OK' indicating successful update.\", inputSchema={'properties': {'city': {'title': 'City', 'type': 'string'}, 'temp': {'title': 'Temp', 'type': 'number'}}, 'required': ['city', 'temp'], 'type': 'object'}, outputSchema=None, annotations=None, meta=None)]\n",
    "```"
   ]
  }
 ],
 "metadata": {
  "kernelspec": {
   "display_name": ".venv",
   "language": "python",
   "name": "python3"
  },
  "language_info": {
   "codemirror_mode": {
    "name": "ipython",
    "version": 3
   },
   "file_extension": ".py",
   "mimetype": "text/x-python",
   "name": "python",
   "nbconvert_exporter": "python",
   "pygments_lexer": "ipython3",
   "version": "3.12.8"
  }
 },
 "nbformat": 4,
 "nbformat_minor": 5
}
